{
  "cells": [
    {
      "metadata": {},
      "cell_type": "markdown",
      "source": "## Implementing KNN on iris data set"
    },
    {
      "metadata": {
        "trusted": true
      },
      "cell_type": "code",
      "source": "import pandas as pd\nimport numpy as np\nimport seaborn as sns\nimport matplotlib.pyplot as plt\nfrom sklearn.model_selection import train_test_split\nfrom sklearn.neighbors import KNeighborsClassifier\nfrom sklearn.metrics import accuracy_score\nfrom sklearn.model_selection import cross_val_score\nfrom collections import Counter",
      "execution_count": 53,
      "outputs": []
    },
    {
      "metadata": {
        "trusted": true
      },
      "cell_type": "code",
      "source": "names = ['sepal_length', 'sepal_width', 'petal_length', 'petal_width', 'class']\niris = pd.read_csv('iris.data', header=None, names=names)\niris.head()",
      "execution_count": 2,
      "outputs": [
        {
          "output_type": "execute_result",
          "execution_count": 2,
          "data": {
            "text/html": "<div>\n<style scoped>\n    .dataframe tbody tr th:only-of-type {\n        vertical-align: middle;\n    }\n\n    .dataframe tbody tr th {\n        vertical-align: top;\n    }\n\n    .dataframe thead th {\n        text-align: right;\n    }\n</style>\n<table border=\"1\" class=\"dataframe\">\n  <thead>\n    <tr style=\"text-align: right;\">\n      <th></th>\n      <th>sepal_length</th>\n      <th>sepal_width</th>\n      <th>petal_length</th>\n      <th>petal_width</th>\n      <th>class</th>\n    </tr>\n  </thead>\n  <tbody>\n    <tr>\n      <th>0</th>\n      <td>5.1</td>\n      <td>3.5</td>\n      <td>1.4</td>\n      <td>0.2</td>\n      <td>Iris-setosa</td>\n    </tr>\n    <tr>\n      <th>1</th>\n      <td>4.9</td>\n      <td>3.0</td>\n      <td>1.4</td>\n      <td>0.2</td>\n      <td>Iris-setosa</td>\n    </tr>\n    <tr>\n      <th>2</th>\n      <td>4.7</td>\n      <td>3.2</td>\n      <td>1.3</td>\n      <td>0.2</td>\n      <td>Iris-setosa</td>\n    </tr>\n    <tr>\n      <th>3</th>\n      <td>4.6</td>\n      <td>3.1</td>\n      <td>1.5</td>\n      <td>0.2</td>\n      <td>Iris-setosa</td>\n    </tr>\n    <tr>\n      <th>4</th>\n      <td>5.0</td>\n      <td>3.6</td>\n      <td>1.4</td>\n      <td>0.2</td>\n      <td>Iris-setosa</td>\n    </tr>\n  </tbody>\n</table>\n</div>",
            "text/plain": "   sepal_length  sepal_width  petal_length  petal_width        class\n0           5.1          3.5           1.4          0.2  Iris-setosa\n1           4.9          3.0           1.4          0.2  Iris-setosa\n2           4.7          3.2           1.3          0.2  Iris-setosa\n3           4.6          3.1           1.5          0.2  Iris-setosa\n4           5.0          3.6           1.4          0.2  Iris-setosa"
          },
          "metadata": {}
        }
      ]
    },
    {
      "metadata": {
        "trusted": true
      },
      "cell_type": "code",
      "source": "x = np.array(iris.ix[:, 0:4])\ny = np.array(iris['class'])\n\nX_train, X_test, y_train, y_test = train_test_split(x,y, test_size=0.33)",
      "execution_count": 15,
      "outputs": [
        {
          "output_type": "stream",
          "text": "/home/nbuser/anaconda3_501/lib/python3.6/site-packages/ipykernel/__main__.py:1: DeprecationWarning: \n.ix is deprecated. Please use\n.loc for label based indexing or\n.iloc for positional indexing\n\nSee the documentation here:\nhttp://pandas.pydata.org/pandas-docs/stable/indexing.html#ix-indexer-is-deprecated\n  if __name__ == '__main__':\n",
          "name": "stderr"
        }
      ]
    },
    {
      "metadata": {},
      "cell_type": "markdown",
      "source": "Using the KNN model to predict the class, with K=3."
    },
    {
      "metadata": {
        "trusted": true
      },
      "cell_type": "code",
      "source": "knn = KNeighborsClassifier(n_neighbors=3)\n\n# fitting the model\nknn.fit(X_train, y_train)\n#predicting the class\npred = knn.predict(X_test)\nprint(accuracy_score(y_test,pred))",
      "execution_count": 16,
      "outputs": [
        {
          "output_type": "stream",
          "text": "0.94\n",
          "name": "stdout"
        }
      ]
    },
    {
      "metadata": {
        "trusted": true
      },
      "cell_type": "markdown",
      "source": "Using thge KNN model to predict class, with K=4"
    },
    {
      "metadata": {
        "trusted": true
      },
      "cell_type": "code",
      "source": "knn = KNeighborsClassifier(n_neighbors=4)\nknn.fit(X_train, y_train)\npred = knn.predict(X_test)\nprint(accuracy_score(y_test,pred))",
      "execution_count": 17,
      "outputs": [
        {
          "output_type": "stream",
          "text": "0.96\n",
          "name": "stdout"
        }
      ]
    },
    {
      "metadata": {},
      "cell_type": "markdown",
      "source": "Using thge KNN model to predict class, with K=5"
    },
    {
      "metadata": {
        "trusted": true
      },
      "cell_type": "code",
      "source": "knn = KNeighborsClassifier(n_neighbors=5)\nknn.fit(X_train, y_train)\npred = knn.predict(X_test)\nprint(accuracy_score(y_test,pred))",
      "execution_count": 18,
      "outputs": [
        {
          "output_type": "stream",
          "text": "0.96\n",
          "name": "stdout"
        }
      ]
    },
    {
      "metadata": {},
      "cell_type": "markdown",
      "source": "### Parameter Tuning With Cross Validation"
    },
    {
      "metadata": {
        "trusted": true
      },
      "cell_type": "code",
      "source": "l=list(range(1,50))\n# Collecting the set of odd integers for K, for tie-breakers.\nneighbors=list(filter(lambda x: x % 2 != 0,l))\ncv_scores = []\n# perform 10-fold cross validation\nfor k in neighbors:\n    knn = KNeighborsClassifier(n_neighbors=k)\n    scores = cross_val_score(knn, X_train, y_train, cv=10, scoring='accuracy')\n    cv_scores.append(scores.mean())\ncv_scores",
      "execution_count": 59,
      "outputs": [
        {
          "output_type": "execute_result",
          "execution_count": 59,
          "data": {
            "text/plain": "[0.9505555555555556,\n 0.9505555555555556,\n 0.9442424242424241,\n 0.9709090909090909,\n 0.9800000000000001,\n 0.9800000000000001,\n 0.9716666666666667,\n 0.97,\n 0.97,\n 0.96,\n 0.97,\n 0.9516666666666665,\n 0.9616666666666667,\n 0.9533333333333334,\n 0.9533333333333334,\n 0.9533333333333334,\n 0.9433333333333334,\n 0.9322222222222223,\n 0.9322222222222223,\n 0.9305555555555556,\n 0.9222222222222223,\n 0.9322222222222223,\n 0.9222222222222223,\n 0.9205555555555556,\n 0.8836868686868687]"
          },
          "metadata": {}
        }
      ]
    },
    {
      "metadata": {
        "trusted": true
      },
      "cell_type": "code",
      "source": "MSE = [1 - x for x in cv_scores]\n\n# determining best k\noptimal_k = neighbors[MSE.index(min(MSE))]\nprint(\"The optimal number of neighbors is \", optimal_k)\n\n# plot misclassification error vs k\nplt.plot(neighbors, MSE)\nplt.xlabel('Number of Neighbors K')\nplt.ylabel('Misclassification Error')\nplt.show()",
      "execution_count": 60,
      "outputs": [
        {
          "output_type": "stream",
          "text": "The optimal number of neighbors is  9\n",
          "name": "stdout"
        },
        {
          "output_type": "display_data",
          "data": {
            "image/png": "[encoded data removed]",
            "text/plain": "<Figure size 432x288 with 1 Axes>"
          },
          "metadata": {
            "needs_background": "light"
          }
        }
      ]
    },
    {
      "metadata": {
        "trusted": true
      },
      "cell_type": "code",
      "source": "optimal_k=1\nfor x in range(1,25):\n    if (cv_scores[x]>cv_scores[optimal_k]):\n        optimal_k=2*x-1\nprint (\"The optimal number of neighbors is\",optimal_k)",
      "execution_count": 45,
      "outputs": [
        {
          "output_type": "stream",
          "text": "The optimal number of neighbors is 5\n",
          "name": "stdout"
        }
      ]
    },
    {
      "metadata": {},
      "cell_type": "markdown",
      "source": "## Writing KNN Code"
    },
    {
      "metadata": {
        "trusted": true
      },
      "cell_type": "code",
      "source": "def train(X_train, y_train):\n    # to store values of train data\n    return",
      "execution_count": 54,
      "outputs": []
    },
    {
      "metadata": {
        "trusted": true
      },
      "cell_type": "code",
      "source": "def predict(X_train, y_train, x_test, k):\n    distances = []\n    targets = []\n    for i in range(len(X_train)):\n        # to compute the euclidean distance\n        distance = np.sqrt(np.sum(np.square(x_test - X_train[i, :])))\n        distances.append([distance, i])\n\n    # sorting the list\n    distances = sorted(distances)\n\n    # make a list of the k neighbours' targets\n    for i in range(k):\n        index = distances[i][1]\n        targets.append(y_train[index])\n\n    return Counter(targets).most_common(1)[0][0]",
      "execution_count": 55,
      "outputs": []
    },
    {
      "metadata": {
        "trusted": true
      },
      "cell_type": "code",
      "source": "def KNN(X_train, y_train, X_test, predictions, k):\n    train(X_train, y_train)\n    for i in range(len(X_test)):\n        predictions.append(predict(X_train, y_train, X_test[i, :], k))",
      "execution_count": 56,
      "outputs": []
    },
    {
      "metadata": {
        "trusted": true
      },
      "cell_type": "code",
      "source": "predictions = []\n\nKNN(X_train, y_train, X_test, predictions, 7)\npredictions = np.asarray(predictions)\n\n# evaluating accuracy\naccuracy = accuracy_score(y_test, predictions)\nprint('\\nThe accuracy of our classifier is ', accuracy*100)",
      "execution_count": 57,
      "outputs": [
        {
          "output_type": "stream",
          "text": "\nThe accuracy of our classifier is  96.0\n",
          "name": "stdout"
        }
      ]
    }
  ],
  "metadata": {
    "kernelspec": {
      "name": "python36",
      "display_name": "Python 3.6",
      "language": "python"
    },
    "language_info": {
      "mimetype": "text/x-python",
      "nbconvert_exporter": "python",
      "name": "python",
      "pygments_lexer": "ipython3",
      "version": "3.6.6",
      "file_extension": ".py",
      "codemirror_mode": {
        "version": 3,
        "name": "ipython"
      }
    }
  },
  "nbformat": 4,
  "nbformat_minor": 2
}